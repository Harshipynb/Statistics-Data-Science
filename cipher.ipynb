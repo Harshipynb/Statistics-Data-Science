{
 "cells": [
  {
   "cell_type": "code",
   "execution_count": 2,
   "metadata": {},
   "outputs": [
    {
     "name": "stdout",
     "output_type": "stream",
     "text": [
      "BRX DUH FK\n"
     ]
    }
   ],
   "source": [
    "\n",
    "\n",
    "\n",
    "\n",
    "\n",
    "def ciph(user):\n",
    "    return chr(ord(\"A\")+(ord(user)-ord('A')+3)%26)\n",
    "\n",
    "inpu=input(\"enter string\")\n",
    "inpu=inpu.upper()\n",
    "new=''\n",
    "for i in inpu:\n",
    "    \n",
    "    if i in \", .\" :\n",
    "        new+=i\n",
    "    else:\n",
    "        new+=ciph(i)\n",
    "print(new)\n",
    "\n",
    "\n"
   ]
  }
 ],
 "metadata": {
  "kernelspec": {
   "display_name": "Python 3.10.5 64-bit",
   "language": "python",
   "name": "python3"
  },
  "language_info": {
   "codemirror_mode": {
    "name": "ipython",
    "version": 3
   },
   "file_extension": ".py",
   "mimetype": "text/x-python",
   "name": "python",
   "nbconvert_exporter": "python",
   "pygments_lexer": "ipython3",
   "version": "3.10.5"
  },
  "orig_nbformat": 4,
  "vscode": {
   "interpreter": {
    "hash": "99c61d958fcfe9f9d70b0c50d0de65fa4da21b293961dd408dd574f09e9a3f29"
   }
  }
 },
 "nbformat": 4,
 "nbformat_minor": 2
}
