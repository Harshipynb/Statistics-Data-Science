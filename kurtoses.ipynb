{
 "cells": [
  {
   "cell_type": "code",
   "execution_count": 2,
   "metadata": {},
   "outputs": [
    {
     "name": "stdout",
     "output_type": "stream",
     "text": [
      "[509300.69179508544, 60978.75885047898, 18830.56059975011, 54.27780091628496, 7434.662640566427, 31155.8521449396, 1381824.2399000414]\n",
      "2.1745231823837194\n"
     ]
    }
   ],
   "source": [
    "from functools import reduce\n",
    "from mean_median_mode_variance_range import *\n",
    "\n",
    "def kurt(user_input):\n",
    "    mean_data=mean_meadian_mode(user_input,\"1\")\n",
    "    new_list=[]\n",
    "    for i in user_input:\n",
    "        new_list.append((i-mean_data)**4)\n",
    "    \n",
    "    standar_dev=(quartile(user_input,\"3\")**2)\n",
    "    numerator=reduce((lambda x,y:x+y),new_list)\n",
    "    deno=len(user_input)*standar_dev\n",
    "    return (numerator/deno)\n",
    "\n",
    "   "
   ]
  }
 ],
 "metadata": {
  "kernelspec": {
   "display_name": "Python 3.10.5 64-bit",
   "language": "python",
   "name": "python3"
  },
  "language_info": {
   "codemirror_mode": {
    "name": "ipython",
    "version": 3
   },
   "file_extension": ".py",
   "mimetype": "text/x-python",
   "name": "python",
   "nbconvert_exporter": "python",
   "pygments_lexer": "ipython3",
   "version": "3.10.5"
  },
  "orig_nbformat": 4,
  "vscode": {
   "interpreter": {
    "hash": "99c61d958fcfe9f9d70b0c50d0de65fa4da21b293961dd408dd574f09e9a3f29"
   }
  }
 },
 "nbformat": 4,
 "nbformat_minor": 2
}
